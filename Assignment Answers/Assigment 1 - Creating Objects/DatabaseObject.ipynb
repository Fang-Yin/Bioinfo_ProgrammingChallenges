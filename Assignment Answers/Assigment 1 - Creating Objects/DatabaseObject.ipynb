{
 "cells": [
  {
   "cell_type": "code",
   "execution_count": 1,
   "metadata": {},
   "outputs": [
    {
     "data": {
      "text/plain": [
       ":plant"
      ]
     },
     "execution_count": 1,
     "metadata": {},
     "output_type": "execute_result"
    }
   ],
   "source": [
    "#The class Seed_stock has 5 attributes(properties) and 1 method (actions)\n",
    "class SeedStock\n",
    "     @@number_of_stock = 0\n",
    "    attr_accessor :seed_Stock  \n",
    "    attr_accessor :mutant_Gene_ID\n",
    "    attr_accessor :last_Planted\n",
    "    attr_accessor :storange\n",
    "    attr_accessor :grams_Remaining\n",
    "  \n",
    "    def initialize params = {}\n",
    "        #Attributes\n",
    "        @@number_of_stock+= 1 #Increment the number of seed by one\n",
    "        @seed_Stock = params.fetch(:seed_Stock, 'seed_Stock_unknow')\n",
    "        @mutant_Gene_ID = params.fetch(:mutant_Gene_ID, 'mutant_Gene_id_unknow')\n",
    "        @last_Planted = params.fetch(:last_Planted, 'unknow date')\n",
    "        @storange = params.fetch(:storange, 'unknow storange')\n",
    "        @grams_Remaining = params.fetch(:grams_Remaining, 'unknow remaining grams')\n",
    "    end\n",
    "    def how_many \n",
    "      return @@number_of_stock\n",
    "    end\n",
    "    #number_of_seed_planted\n",
    "    def plant \n",
    "        new_grams = grams_Remaining.to_i-(7) #new grams are remaing grams after planting 7g\n",
    "        if new_grams >= 0\n",
    "            return \"#{seed_Stock}\" #if in the stock we have > 0 after planting 7g, it should return the new stock\n",
    "        else\n",
    "            return \"No more grams to plant\"\n",
    "        end\n",
    "    end\n",
    "    \n",
    "end"
   ]
  },
  {
   "cell_type": "code",
   "execution_count": null,
   "metadata": {},
   "outputs": [],
   "source": []
  }
 ],
 "metadata": {
  "kernelspec": {
   "display_name": "Ruby 2.5.1",
   "language": "ruby",
   "name": "ruby"
  },
  "language_info": {
   "file_extension": ".rb",
   "mimetype": "application/x-ruby",
   "name": "ruby",
   "version": "2.5.1"
  }
 },
 "nbformat": 4,
 "nbformat_minor": 2
}
