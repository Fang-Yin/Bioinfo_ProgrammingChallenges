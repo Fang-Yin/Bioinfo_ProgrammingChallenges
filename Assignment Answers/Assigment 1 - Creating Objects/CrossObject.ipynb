{
 "cells": [
  {
   "cell_type": "markdown",
   "metadata": {},
   "source": [
    "# class Hybrid cross"
   ]
  },
  {
   "cell_type": "code",
   "execution_count": 1,
   "metadata": {},
   "outputs": [
    {
     "data": {
      "text/plain": [
       ":chi2"
      ]
     },
     "execution_count": 1,
     "metadata": {},
     "output_type": "execute_result"
    }
   ],
   "source": [
    "#The class Hybrid cross has 6 attributes and 1  method(action)\n",
    "class Hybrid_Cross\n",
    "    @@number_of_cross = 0\n",
    "    attr_accessor :parent1 \n",
    "    attr_accessor :parent2\n",
    "    attr_accessor :f2_wild\n",
    "    attr_accessor :f2_P1\n",
    "    attr_accessor :f2_P2\n",
    "    attr_accessor :f2_P1P2\n",
    "  \n",
    "    def initialize params = {}\n",
    "        #Properties\n",
    "        @@number_of_cross+= 1\n",
    "        @parent1 = params.fetch(:parent1, 'unknow gene id')\n",
    "        @parent2 = params.fetch(:parent2, 'unknow gene name')\n",
    "        @f2_wild = params.fetch(:f2_wild, 'unknow f2_wild')\n",
    "        @f2_P1 = params.fetch(:f2_P1, 'unknow f2_P1')\n",
    "        @f2_P2= params.fetch(:f2_P2, 'unknow f2_P2')\n",
    "        @f2_P1P2 = params.fetch(:f2_P1P2, 'unknow f2_P1P2')\n",
    "    end\n",
    "    def how_many \n",
    "      return @@number_of_cross\n",
    "    end\n",
    "    def chi2\n",
    "      total = f2_wild.to_f + f2_P1.to_f + f2_P2.to_f + f2_P1P2.to_f\n",
    "      f2_wild_esperated = (total*9)/16\n",
    "      f2_P1_esperated = (total*3)/16\n",
    "      f2_P2_esperated = (total*3)/16\n",
    "      f2P1P2_esperated = (total*1)/16\n",
    "      result = ((f2_wild.to_f - f2_wild_esperated)**2 /f2_wild_esperated) + ((f2_P1.to_f - f2_P1_esperated)**2 /f2_P1_esperated) + ((f2_P2.to_f - f2_P2_esperated)**2 /f2_P2_esperated) +((f2_P1P2.to_f - f2_P1P2_esperated)**2 /f2_P1P2_esperated)\n",
    "      return result\n",
    "      if result > 7.815puts \"The gen #{matrix_code_cross_data[$counter1].parent1.mutant_Gene_ID.gene_name} is linked to #{matrix_code_cross_data[$counter1].parent2.mutant_Gene_ID.gene_name} with a chi-square of #{answer2}\"\n",
    "      \n",
    "    end \n",
    "\n",
    "end"
   ]
  },
  {
   "cell_type": "code",
   "execution_count": null,
   "metadata": {},
   "outputs": [],
   "source": []
  }
 ],
 "metadata": {
  "kernelspec": {
   "display_name": "Ruby 2.5.1",
   "language": "ruby",
   "name": "ruby"
  },
  "language_info": {
   "file_extension": ".rb",
   "mimetype": "application/x-ruby",
   "name": "ruby",
   "version": "2.5.1"
  }
 },
 "nbformat": 4,
 "nbformat_minor": 2
}
