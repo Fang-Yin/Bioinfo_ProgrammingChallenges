{
 "cells": [
  {
   "cell_type": "markdown",
   "metadata": {},
   "source": [
    "# A Class for the Gene"
   ]
  },
  {
   "cell_type": "code",
   "execution_count": 1,
   "metadata": {},
   "outputs": [
    {
     "data": {
      "text/plain": [
       ":how_many"
      ]
     },
     "execution_count": 1,
     "metadata": {},
     "output_type": "execute_result"
    }
   ],
   "source": [
    "#The class gene has 3 attributes\n",
    "class Gene\n",
    "    @@number_of_gene = 0 #SET THE STARTING VALUE\n",
    "    attr_accessor :gene_ID \n",
    "    attr_accessor :gene_name\n",
    "    attr_accessor :mutant_phenotype\n",
    "  \n",
    "    def initialize params = {}\n",
    "        #Attributes\n",
    "        @@number_of_gene+= 1 #Increment the number of genes by one\n",
    "        @gene_ID = params.fetch(:gene_ID, 'unknow gene id')\n",
    "        @gene_name = params.fetch(:gene_name, 'unknow gene name')\n",
    "        @mutant_phenotype = params.fetch(:mutant_phenotype, 'unknow mutant phenotype')\n",
    "    end\n",
    "    def how_many \n",
    "      return @@number_of_gene\n",
    "    end\n",
    "end\n",
    "\n"
   ]
  },
  {
   "cell_type": "code",
   "execution_count": null,
   "metadata": {},
   "outputs": [],
   "source": []
  }
 ],
 "metadata": {
  "kernelspec": {
   "display_name": "Ruby 2.5.1",
   "language": "ruby",
   "name": "ruby"
  },
  "language_info": {
   "file_extension": ".rb",
   "mimetype": "application/x-ruby",
   "name": "ruby",
   "version": "2.5.1"
  }
 },
 "nbformat": 4,
 "nbformat_minor": 2
}
